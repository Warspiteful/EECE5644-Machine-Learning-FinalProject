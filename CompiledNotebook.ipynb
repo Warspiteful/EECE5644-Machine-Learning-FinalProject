{
 "cells": [
  {
   "cell_type": "markdown",
   "metadata": {},
   "source": [
    "Import Libraries"
   ]
  },
  {
   "cell_type": "code",
   "execution_count": 10,
   "metadata": {},
   "outputs": [],
   "source": [
    "from sklearn.ensemble import RandomForestClassifier\n",
    "from sklearn.model_selection import train_test_split\n",
    "import numpy as np # linear algebra\n",
    "import pandas as pd # data processing, CSV file I/O (e.g. pd.read_csv)\n",
    "\n",
    "from sklearn.preprocessing import LabelEncoder\n",
    "from random import shuffle\n",
    "from sklearn.model_selection import RandomizedSearchCV as RSCV\n",
    "import matplotlib.pyplot as plt\n",
    "import seaborn as sns\n",
    "import time\n"
   ]
  },
  {
   "cell_type": "markdown",
   "metadata": {},
   "source": [
    "Reading in Data"
   ]
  },
  {
   "cell_type": "code",
   "execution_count": 11,
   "metadata": {},
   "outputs": [],
   "source": [
    "file_path = \"data.csv\"\n",
    "df = pd.read_csv(file_path, index_col='year')\n",
    "\n",
    "file_path = \"tracks_features.csv\"\n",
    "df2 = pd.read_csv(file_path, index_col='year')"
   ]
  },
  {
   "cell_type": "code",
   "execution_count": 12,
   "metadata": {},
   "outputs": [],
   "source": [
    "song_db=df.copy()\n",
    "song_larger_db=df2.copy()"
   ]
  },
  {
   "cell_type": "code",
   "execution_count": 13,
   "metadata": {},
   "outputs": [
    {
     "data": {
      "text/html": [
       "<div>\n",
       "<style scoped>\n",
       "    .dataframe tbody tr th:only-of-type {\n",
       "        vertical-align: middle;\n",
       "    }\n",
       "\n",
       "    .dataframe tbody tr th {\n",
       "        vertical-align: top;\n",
       "    }\n",
       "\n",
       "    .dataframe thead th {\n",
       "        text-align: right;\n",
       "    }\n",
       "</style>\n",
       "<table border=\"1\" class=\"dataframe\">\n",
       "  <thead>\n",
       "    <tr style=\"text-align: right;\">\n",
       "      <th></th>\n",
       "      <th>acousticness</th>\n",
       "      <th>artists</th>\n",
       "      <th>danceability</th>\n",
       "      <th>duration_ms</th>\n",
       "      <th>energy</th>\n",
       "      <th>explicit</th>\n",
       "      <th>id</th>\n",
       "      <th>instrumentalness</th>\n",
       "      <th>key</th>\n",
       "      <th>liveness</th>\n",
       "      <th>loudness</th>\n",
       "      <th>mode</th>\n",
       "      <th>name</th>\n",
       "      <th>popularity</th>\n",
       "      <th>release_date</th>\n",
       "      <th>speechiness</th>\n",
       "      <th>tempo</th>\n",
       "      <th>valence</th>\n",
       "    </tr>\n",
       "    <tr>\n",
       "      <th>year</th>\n",
       "      <th></th>\n",
       "      <th></th>\n",
       "      <th></th>\n",
       "      <th></th>\n",
       "      <th></th>\n",
       "      <th></th>\n",
       "      <th></th>\n",
       "      <th></th>\n",
       "      <th></th>\n",
       "      <th></th>\n",
       "      <th></th>\n",
       "      <th></th>\n",
       "      <th></th>\n",
       "      <th></th>\n",
       "      <th></th>\n",
       "      <th></th>\n",
       "      <th></th>\n",
       "      <th></th>\n",
       "    </tr>\n",
       "  </thead>\n",
       "  <tbody>\n",
       "    <tr>\n",
       "      <th>1928</th>\n",
       "      <td>0.995</td>\n",
       "      <td>['Carl Woitschach']</td>\n",
       "      <td>0.708</td>\n",
       "      <td>158648</td>\n",
       "      <td>0.1950</td>\n",
       "      <td>0</td>\n",
       "      <td>6KbQ3uYMLKb5jDxLF7wYDD</td>\n",
       "      <td>0.563</td>\n",
       "      <td>10</td>\n",
       "      <td>0.1510</td>\n",
       "      <td>-12.428</td>\n",
       "      <td>1</td>\n",
       "      <td>Singende Bataillone 1. Teil</td>\n",
       "      <td>0</td>\n",
       "      <td>1928</td>\n",
       "      <td>0.0506</td>\n",
       "      <td>118.469</td>\n",
       "      <td>0.7790</td>\n",
       "    </tr>\n",
       "    <tr>\n",
       "      <th>1928</th>\n",
       "      <td>0.994</td>\n",
       "      <td>['Robert Schumann', 'Vladimir Horowitz']</td>\n",
       "      <td>0.379</td>\n",
       "      <td>282133</td>\n",
       "      <td>0.0135</td>\n",
       "      <td>0</td>\n",
       "      <td>6KuQTIu1KoTTkLXKrwlLPV</td>\n",
       "      <td>0.901</td>\n",
       "      <td>8</td>\n",
       "      <td>0.0763</td>\n",
       "      <td>-28.454</td>\n",
       "      <td>1</td>\n",
       "      <td>Fantasiestücke, Op. 111: Più tosto lento</td>\n",
       "      <td>0</td>\n",
       "      <td>1928</td>\n",
       "      <td>0.0462</td>\n",
       "      <td>83.972</td>\n",
       "      <td>0.0767</td>\n",
       "    </tr>\n",
       "    <tr>\n",
       "      <th>1928</th>\n",
       "      <td>0.604</td>\n",
       "      <td>['Seweryn Goszczyński']</td>\n",
       "      <td>0.749</td>\n",
       "      <td>104300</td>\n",
       "      <td>0.2200</td>\n",
       "      <td>0</td>\n",
       "      <td>6L63VW0PibdM1HDSBoqnoM</td>\n",
       "      <td>0.000</td>\n",
       "      <td>5</td>\n",
       "      <td>0.1190</td>\n",
       "      <td>-19.924</td>\n",
       "      <td>0</td>\n",
       "      <td>Chapter 1.18 - Zamek kaniowski</td>\n",
       "      <td>0</td>\n",
       "      <td>1928</td>\n",
       "      <td>0.9290</td>\n",
       "      <td>107.177</td>\n",
       "      <td>0.8800</td>\n",
       "    </tr>\n",
       "  </tbody>\n",
       "</table>\n",
       "</div>"
      ],
      "text/plain": [
       "      acousticness                                   artists  danceability  \\\n",
       "year                                                                         \n",
       "1928         0.995                       ['Carl Woitschach']         0.708   \n",
       "1928         0.994  ['Robert Schumann', 'Vladimir Horowitz']         0.379   \n",
       "1928         0.604                   ['Seweryn Goszczyński']         0.749   \n",
       "\n",
       "      duration_ms  energy  explicit                      id  instrumentalness  \\\n",
       "year                                                                            \n",
       "1928       158648  0.1950         0  6KbQ3uYMLKb5jDxLF7wYDD             0.563   \n",
       "1928       282133  0.0135         0  6KuQTIu1KoTTkLXKrwlLPV             0.901   \n",
       "1928       104300  0.2200         0  6L63VW0PibdM1HDSBoqnoM             0.000   \n",
       "\n",
       "      key  liveness  loudness  mode                                      name  \\\n",
       "year                                                                            \n",
       "1928   10    0.1510   -12.428     1               Singende Bataillone 1. Teil   \n",
       "1928    8    0.0763   -28.454     1  Fantasiestücke, Op. 111: Più tosto lento   \n",
       "1928    5    0.1190   -19.924     0            Chapter 1.18 - Zamek kaniowski   \n",
       "\n",
       "      popularity release_date  speechiness    tempo  valence  \n",
       "year                                                          \n",
       "1928           0         1928       0.0506  118.469   0.7790  \n",
       "1928           0         1928       0.0462   83.972   0.0767  \n",
       "1928           0         1928       0.9290  107.177   0.8800  "
      ]
     },
     "execution_count": 13,
     "metadata": {},
     "output_type": "execute_result"
    }
   ],
   "source": [
    "song_db.head(3)"
   ]
  },
  {
   "cell_type": "code",
   "execution_count": 14,
   "metadata": {},
   "outputs": [
    {
     "data": {
      "text/html": [
       "<div>\n",
       "<style scoped>\n",
       "    .dataframe tbody tr th:only-of-type {\n",
       "        vertical-align: middle;\n",
       "    }\n",
       "\n",
       "    .dataframe tbody tr th {\n",
       "        vertical-align: top;\n",
       "    }\n",
       "\n",
       "    .dataframe thead th {\n",
       "        text-align: right;\n",
       "    }\n",
       "</style>\n",
       "<table border=\"1\" class=\"dataframe\">\n",
       "  <thead>\n",
       "    <tr style=\"text-align: right;\">\n",
       "      <th></th>\n",
       "      <th>id</th>\n",
       "      <th>name</th>\n",
       "      <th>album</th>\n",
       "      <th>album_id</th>\n",
       "      <th>artists</th>\n",
       "      <th>artist_ids</th>\n",
       "      <th>track_number</th>\n",
       "      <th>disc_number</th>\n",
       "      <th>explicit</th>\n",
       "      <th>danceability</th>\n",
       "      <th>...</th>\n",
       "      <th>mode</th>\n",
       "      <th>speechiness</th>\n",
       "      <th>acousticness</th>\n",
       "      <th>instrumentalness</th>\n",
       "      <th>liveness</th>\n",
       "      <th>valence</th>\n",
       "      <th>tempo</th>\n",
       "      <th>duration_ms</th>\n",
       "      <th>time_signature</th>\n",
       "      <th>release_date</th>\n",
       "    </tr>\n",
       "    <tr>\n",
       "      <th>year</th>\n",
       "      <th></th>\n",
       "      <th></th>\n",
       "      <th></th>\n",
       "      <th></th>\n",
       "      <th></th>\n",
       "      <th></th>\n",
       "      <th></th>\n",
       "      <th></th>\n",
       "      <th></th>\n",
       "      <th></th>\n",
       "      <th></th>\n",
       "      <th></th>\n",
       "      <th></th>\n",
       "      <th></th>\n",
       "      <th></th>\n",
       "      <th></th>\n",
       "      <th></th>\n",
       "      <th></th>\n",
       "      <th></th>\n",
       "      <th></th>\n",
       "      <th></th>\n",
       "    </tr>\n",
       "  </thead>\n",
       "  <tbody>\n",
       "    <tr>\n",
       "      <th>1999</th>\n",
       "      <td>7lmeHLHBe4nmXzuXc0HDjk</td>\n",
       "      <td>Testify</td>\n",
       "      <td>The Battle Of Los Angeles</td>\n",
       "      <td>2eia0myWFgoHuttJytCxgX</td>\n",
       "      <td>['Rage Against The Machine']</td>\n",
       "      <td>['2d0hyoQ5ynDBnkvAbJKORj']</td>\n",
       "      <td>1</td>\n",
       "      <td>1</td>\n",
       "      <td>False</td>\n",
       "      <td>0.470</td>\n",
       "      <td>...</td>\n",
       "      <td>1</td>\n",
       "      <td>0.0727</td>\n",
       "      <td>0.0261</td>\n",
       "      <td>0.000011</td>\n",
       "      <td>0.356</td>\n",
       "      <td>0.503</td>\n",
       "      <td>117.906</td>\n",
       "      <td>210133</td>\n",
       "      <td>4.0</td>\n",
       "      <td>1999-11-02</td>\n",
       "    </tr>\n",
       "    <tr>\n",
       "      <th>1999</th>\n",
       "      <td>1wsRitfRRtWyEapl0q22o8</td>\n",
       "      <td>Guerrilla Radio</td>\n",
       "      <td>The Battle Of Los Angeles</td>\n",
       "      <td>2eia0myWFgoHuttJytCxgX</td>\n",
       "      <td>['Rage Against The Machine']</td>\n",
       "      <td>['2d0hyoQ5ynDBnkvAbJKORj']</td>\n",
       "      <td>2</td>\n",
       "      <td>1</td>\n",
       "      <td>True</td>\n",
       "      <td>0.599</td>\n",
       "      <td>...</td>\n",
       "      <td>1</td>\n",
       "      <td>0.1880</td>\n",
       "      <td>0.0129</td>\n",
       "      <td>0.000071</td>\n",
       "      <td>0.155</td>\n",
       "      <td>0.489</td>\n",
       "      <td>103.680</td>\n",
       "      <td>206200</td>\n",
       "      <td>4.0</td>\n",
       "      <td>1999-11-02</td>\n",
       "    </tr>\n",
       "    <tr>\n",
       "      <th>1999</th>\n",
       "      <td>1hR0fIFK2qRG3f3RF70pb7</td>\n",
       "      <td>Calm Like a Bomb</td>\n",
       "      <td>The Battle Of Los Angeles</td>\n",
       "      <td>2eia0myWFgoHuttJytCxgX</td>\n",
       "      <td>['Rage Against The Machine']</td>\n",
       "      <td>['2d0hyoQ5ynDBnkvAbJKORj']</td>\n",
       "      <td>3</td>\n",
       "      <td>1</td>\n",
       "      <td>False</td>\n",
       "      <td>0.315</td>\n",
       "      <td>...</td>\n",
       "      <td>1</td>\n",
       "      <td>0.4830</td>\n",
       "      <td>0.0234</td>\n",
       "      <td>0.000002</td>\n",
       "      <td>0.122</td>\n",
       "      <td>0.370</td>\n",
       "      <td>149.749</td>\n",
       "      <td>298893</td>\n",
       "      <td>4.0</td>\n",
       "      <td>1999-11-02</td>\n",
       "    </tr>\n",
       "  </tbody>\n",
       "</table>\n",
       "<p>3 rows × 23 columns</p>\n",
       "</div>"
      ],
      "text/plain": [
       "                          id              name                      album  \\\n",
       "year                                                                        \n",
       "1999  7lmeHLHBe4nmXzuXc0HDjk           Testify  The Battle Of Los Angeles   \n",
       "1999  1wsRitfRRtWyEapl0q22o8   Guerrilla Radio  The Battle Of Los Angeles   \n",
       "1999  1hR0fIFK2qRG3f3RF70pb7  Calm Like a Bomb  The Battle Of Los Angeles   \n",
       "\n",
       "                    album_id                       artists  \\\n",
       "year                                                         \n",
       "1999  2eia0myWFgoHuttJytCxgX  ['Rage Against The Machine']   \n",
       "1999  2eia0myWFgoHuttJytCxgX  ['Rage Against The Machine']   \n",
       "1999  2eia0myWFgoHuttJytCxgX  ['Rage Against The Machine']   \n",
       "\n",
       "                      artist_ids  track_number  disc_number  explicit  \\\n",
       "year                                                                    \n",
       "1999  ['2d0hyoQ5ynDBnkvAbJKORj']             1            1     False   \n",
       "1999  ['2d0hyoQ5ynDBnkvAbJKORj']             2            1      True   \n",
       "1999  ['2d0hyoQ5ynDBnkvAbJKORj']             3            1     False   \n",
       "\n",
       "      danceability  ...  mode  speechiness  acousticness  instrumentalness  \\\n",
       "year                ...                                                      \n",
       "1999         0.470  ...     1       0.0727        0.0261          0.000011   \n",
       "1999         0.599  ...     1       0.1880        0.0129          0.000071   \n",
       "1999         0.315  ...     1       0.4830        0.0234          0.000002   \n",
       "\n",
       "      liveness  valence    tempo  duration_ms  time_signature  release_date  \n",
       "year                                                                         \n",
       "1999     0.356    0.503  117.906       210133             4.0    1999-11-02  \n",
       "1999     0.155    0.489  103.680       206200             4.0    1999-11-02  \n",
       "1999     0.122    0.370  149.749       298893             4.0    1999-11-02  \n",
       "\n",
       "[3 rows x 23 columns]"
      ]
     },
     "execution_count": 14,
     "metadata": {},
     "output_type": "execute_result"
    }
   ],
   "source": [
    "song_larger_db.head(3)"
   ]
  },
  {
   "cell_type": "code",
   "execution_count": 15,
   "metadata": {},
   "outputs": [
    {
     "data": {
      "text/plain": [
       "(169909, 18)"
      ]
     },
     "execution_count": 15,
     "metadata": {},
     "output_type": "execute_result"
    }
   ],
   "source": [
    "song_db.shape\n"
   ]
  },
  {
   "cell_type": "code",
   "execution_count": 16,
   "metadata": {},
   "outputs": [
    {
     "data": {
      "text/plain": [
       "(1204025, 23)"
      ]
     },
     "execution_count": 16,
     "metadata": {},
     "output_type": "execute_result"
    }
   ],
   "source": [
    "song_larger_db.shape"
   ]
  },
  {
   "cell_type": "markdown",
   "metadata": {},
   "source": [
    "Combining Databases"
   ]
  },
  {
   "cell_type": "code",
   "execution_count": 17,
   "metadata": {},
   "outputs": [
    {
     "data": {
      "text/plain": [
       "Index(['acousticness', 'artists', 'danceability', 'duration_ms', 'energy',\n",
       "       'explicit', 'id', 'instrumentalness', 'key', 'liveness', 'loudness',\n",
       "       'mode', 'name', 'popularity', 'release_date', 'speechiness', 'tempo',\n",
       "       'valence'],\n",
       "      dtype='object')"
      ]
     },
     "execution_count": 17,
     "metadata": {},
     "output_type": "execute_result"
    }
   ],
   "source": [
    "song_db.columns"
   ]
  },
  {
   "cell_type": "code",
   "execution_count": 18,
   "metadata": {},
   "outputs": [
    {
     "data": {
      "text/plain": [
       "Index(['id', 'name', 'album', 'album_id', 'artists', 'artist_ids',\n",
       "       'track_number', 'disc_number', 'explicit', 'danceability', 'energy',\n",
       "       'key', 'loudness', 'mode', 'speechiness', 'acousticness',\n",
       "       'instrumentalness', 'liveness', 'valence', 'tempo', 'duration_ms',\n",
       "       'time_signature', 'release_date'],\n",
       "      dtype='object')"
      ]
     },
     "execution_count": 18,
     "metadata": {},
     "output_type": "execute_result"
    }
   ],
   "source": [
    "song_larger_db.columns"
   ]
  },
  {
   "cell_type": "code",
   "execution_count": 19,
   "metadata": {},
   "outputs": [],
   "source": [
    "song_db.drop(['artists','id', 'name', 'release_date', 'popularity' ], axis = 1, inplace = True)\n"
   ]
  },
  {
   "cell_type": "code",
   "execution_count": 20,
   "metadata": {},
   "outputs": [],
   "source": [
    "song_larger_db.drop(['artists','id', 'name', 'release_date', 'album_id','artist_ids', 'time_signature', 'track_number', 'disc_number', 'album' ], axis = 1, inplace = True)\n"
   ]
  },
  {
   "cell_type": "code",
   "execution_count": 21,
   "metadata": {},
   "outputs": [
    {
     "data": {
      "text/plain": [
       "array(['acousticness', 'danceability', 'duration_ms', 'energy',\n",
       "       'explicit', 'instrumentalness', 'key', 'liveness', 'loudness',\n",
       "       'mode', 'speechiness', 'tempo', 'valence'], dtype=object)"
      ]
     },
     "execution_count": 21,
     "metadata": {},
     "output_type": "execute_result"
    }
   ],
   "source": [
    "np.sort(song_db.columns)\n",
    "np.sort(song_larger_db.columns)\n"
   ]
  },
  {
   "cell_type": "code",
   "execution_count": 22,
   "metadata": {},
   "outputs": [
    {
     "data": {
      "text/plain": [
       "array([ True,  True,  True,  True,  True,  True,  True,  True,  True,\n",
       "        True,  True,  True,  True])"
      ]
     },
     "execution_count": 22,
     "metadata": {},
     "output_type": "execute_result"
    }
   ],
   "source": [
    "np.sort(song_larger_db.columns) == np.sort(song_db.columns)"
   ]
  },
  {
   "cell_type": "code",
   "execution_count": 23,
   "metadata": {},
   "outputs": [
    {
     "data": {
      "text/plain": [
       "(1373934, 13)"
      ]
     },
     "execution_count": 23,
     "metadata": {},
     "output_type": "execute_result"
    }
   ],
   "source": [
    "song_db = pd.concat([song_db,song_larger_db])\n",
    "song_db.shape"
   ]
  },
  {
   "cell_type": "code",
   "execution_count": 24,
   "metadata": {},
   "outputs": [
    {
     "data": {
      "text/plain": [
       "Index([], dtype='object')"
      ]
     },
     "execution_count": 24,
     "metadata": {},
     "output_type": "execute_result"
    }
   ],
   "source": [
    "song_db.columns[song_db.isnull().any()]"
   ]
  },
  {
   "cell_type": "code",
   "execution_count": 25,
   "metadata": {},
   "outputs": [
    {
     "data": {
      "text/plain": [
       "acousticness        0\n",
       "danceability        0\n",
       "duration_ms         0\n",
       "energy              0\n",
       "explicit            0\n",
       "instrumentalness    0\n",
       "key                 0\n",
       "liveness            0\n",
       "loudness            0\n",
       "mode                0\n",
       "speechiness         0\n",
       "tempo               0\n",
       "valence             0\n",
       "dtype: int64"
      ]
     },
     "execution_count": 25,
     "metadata": {},
     "output_type": "execute_result"
    }
   ],
   "source": [
    "song_db.isnull().sum()"
   ]
  },
  {
   "cell_type": "markdown",
   "metadata": {},
   "source": [
    "Analysis"
   ]
  },
  {
   "cell_type": "code",
   "execution_count": 26,
   "metadata": {},
   "outputs": [
    {
     "data": {
      "text/html": [
       "<div>\n",
       "<style scoped>\n",
       "    .dataframe tbody tr th:only-of-type {\n",
       "        vertical-align: middle;\n",
       "    }\n",
       "\n",
       "    .dataframe tbody tr th {\n",
       "        vertical-align: top;\n",
       "    }\n",
       "\n",
       "    .dataframe thead th {\n",
       "        text-align: right;\n",
       "    }\n",
       "</style>\n",
       "<table border=\"1\" class=\"dataframe\">\n",
       "  <thead>\n",
       "    <tr style=\"text-align: right;\">\n",
       "      <th></th>\n",
       "      <th>acousticness</th>\n",
       "      <th>danceability</th>\n",
       "      <th>duration_ms</th>\n",
       "      <th>energy</th>\n",
       "      <th>explicit</th>\n",
       "      <th>instrumentalness</th>\n",
       "      <th>key</th>\n",
       "      <th>liveness</th>\n",
       "      <th>loudness</th>\n",
       "      <th>mode</th>\n",
       "      <th>speechiness</th>\n",
       "      <th>tempo</th>\n",
       "      <th>valence</th>\n",
       "    </tr>\n",
       "  </thead>\n",
       "  <tbody>\n",
       "    <tr>\n",
       "      <th>count</th>\n",
       "      <td>1.373934e+06</td>\n",
       "      <td>1.373934e+06</td>\n",
       "      <td>1.373934e+06</td>\n",
       "      <td>1.373934e+06</td>\n",
       "      <td>1.373934e+06</td>\n",
       "      <td>1.373934e+06</td>\n",
       "      <td>1.373934e+06</td>\n",
       "      <td>1.373934e+06</td>\n",
       "      <td>1.373934e+06</td>\n",
       "      <td>1.373934e+06</td>\n",
       "      <td>1.373934e+06</td>\n",
       "      <td>1.373934e+06</td>\n",
       "      <td>1.373934e+06</td>\n",
       "    </tr>\n",
       "    <tr>\n",
       "      <th>mean</th>\n",
       "      <td>4.524970e-01</td>\n",
       "      <td>4.986330e-01</td>\n",
       "      <td>2.466839e+05</td>\n",
       "      <td>5.069463e-01</td>\n",
       "      <td>7.064895e-02</td>\n",
       "      <td>2.679064e-01</td>\n",
       "      <td>5.194939e+00</td>\n",
       "      <td>2.022290e-01</td>\n",
       "      <td>-1.175449e+01</td>\n",
       "      <td>6.760470e-01</td>\n",
       "      <td>8.557872e-02</td>\n",
       "      <td>1.175495e+02</td>\n",
       "      <td>4.408613e-01</td>\n",
       "    </tr>\n",
       "    <tr>\n",
       "      <th>std</th>\n",
       "      <td>3.844557e-01</td>\n",
       "      <td>1.885425e-01</td>\n",
       "      <td>1.578336e+05</td>\n",
       "      <td>2.915286e-01</td>\n",
       "      <td>2.562376e-01</td>\n",
       "      <td>3.708067e-01</td>\n",
       "      <td>3.534082e+00</td>\n",
       "      <td>1.800179e-01</td>\n",
       "      <td>6.834722e+00</td>\n",
       "      <td>4.679825e-01</td>\n",
       "      <td>1.207497e-01</td>\n",
       "      <td>3.091196e+01</td>\n",
       "      <td>2.716692e-01</td>\n",
       "    </tr>\n",
       "    <tr>\n",
       "      <th>min</th>\n",
       "      <td>0.000000e+00</td>\n",
       "      <td>0.000000e+00</td>\n",
       "      <td>1.000000e+03</td>\n",
       "      <td>0.000000e+00</td>\n",
       "      <td>0.000000e+00</td>\n",
       "      <td>0.000000e+00</td>\n",
       "      <td>0.000000e+00</td>\n",
       "      <td>0.000000e+00</td>\n",
       "      <td>-6.000000e+01</td>\n",
       "      <td>0.000000e+00</td>\n",
       "      <td>0.000000e+00</td>\n",
       "      <td>0.000000e+00</td>\n",
       "      <td>0.000000e+00</td>\n",
       "    </tr>\n",
       "    <tr>\n",
       "      <th>25%</th>\n",
       "      <td>4.300000e-02</td>\n",
       "      <td>3.640000e-01</td>\n",
       "      <td>1.735870e+05</td>\n",
       "      <td>2.540000e-01</td>\n",
       "      <td>0.000000e+00</td>\n",
       "      <td>5.100000e-06</td>\n",
       "      <td>2.000000e+00</td>\n",
       "      <td>9.700000e-02</td>\n",
       "      <td>-1.511300e+01</td>\n",
       "      <td>0.000000e+00</td>\n",
       "      <td>3.510000e-02</td>\n",
       "      <td>9.401700e+01</td>\n",
       "      <td>2.040000e-01</td>\n",
       "    </tr>\n",
       "    <tr>\n",
       "      <th>50%</th>\n",
       "      <td>4.030000e-01</td>\n",
       "      <td>5.070000e-01</td>\n",
       "      <td>2.223200e+05</td>\n",
       "      <td>5.180000e-01</td>\n",
       "      <td>0.000000e+00</td>\n",
       "      <td>4.830000e-03</td>\n",
       "      <td>5.000000e+00</td>\n",
       "      <td>1.260000e-01</td>\n",
       "      <td>-9.880000e+00</td>\n",
       "      <td>1.000000e+00</td>\n",
       "      <td>4.460000e-02</td>\n",
       "      <td>1.163490e+02</td>\n",
       "      <td>4.220000e-01</td>\n",
       "    </tr>\n",
       "    <tr>\n",
       "      <th>75%</th>\n",
       "      <td>8.640000e-01</td>\n",
       "      <td>6.380000e-01</td>\n",
       "      <td>2.830000e+05</td>\n",
       "      <td>7.590000e-01</td>\n",
       "      <td>0.000000e+00</td>\n",
       "      <td>6.720000e-01</td>\n",
       "      <td>8.000000e+00</td>\n",
       "      <td>2.480000e-01</td>\n",
       "      <td>-6.760000e+00</td>\n",
       "      <td>1.000000e+00</td>\n",
       "      <td>7.260000e-02</td>\n",
       "      <td>1.369300e+02</td>\n",
       "      <td>6.600000e-01</td>\n",
       "    </tr>\n",
       "    <tr>\n",
       "      <th>max</th>\n",
       "      <td>9.960000e-01</td>\n",
       "      <td>1.000000e+00</td>\n",
       "      <td>6.061090e+06</td>\n",
       "      <td>1.000000e+00</td>\n",
       "      <td>1.000000e+00</td>\n",
       "      <td>1.000000e+00</td>\n",
       "      <td>1.100000e+01</td>\n",
       "      <td>1.000000e+00</td>\n",
       "      <td>7.234000e+00</td>\n",
       "      <td>1.000000e+00</td>\n",
       "      <td>9.690000e-01</td>\n",
       "      <td>2.489340e+02</td>\n",
       "      <td>1.000000e+00</td>\n",
       "    </tr>\n",
       "  </tbody>\n",
       "</table>\n",
       "</div>"
      ],
      "text/plain": [
       "       acousticness  danceability   duration_ms        energy      explicit  \\\n",
       "count  1.373934e+06  1.373934e+06  1.373934e+06  1.373934e+06  1.373934e+06   \n",
       "mean   4.524970e-01  4.986330e-01  2.466839e+05  5.069463e-01  7.064895e-02   \n",
       "std    3.844557e-01  1.885425e-01  1.578336e+05  2.915286e-01  2.562376e-01   \n",
       "min    0.000000e+00  0.000000e+00  1.000000e+03  0.000000e+00  0.000000e+00   \n",
       "25%    4.300000e-02  3.640000e-01  1.735870e+05  2.540000e-01  0.000000e+00   \n",
       "50%    4.030000e-01  5.070000e-01  2.223200e+05  5.180000e-01  0.000000e+00   \n",
       "75%    8.640000e-01  6.380000e-01  2.830000e+05  7.590000e-01  0.000000e+00   \n",
       "max    9.960000e-01  1.000000e+00  6.061090e+06  1.000000e+00  1.000000e+00   \n",
       "\n",
       "       instrumentalness           key      liveness      loudness  \\\n",
       "count      1.373934e+06  1.373934e+06  1.373934e+06  1.373934e+06   \n",
       "mean       2.679064e-01  5.194939e+00  2.022290e-01 -1.175449e+01   \n",
       "std        3.708067e-01  3.534082e+00  1.800179e-01  6.834722e+00   \n",
       "min        0.000000e+00  0.000000e+00  0.000000e+00 -6.000000e+01   \n",
       "25%        5.100000e-06  2.000000e+00  9.700000e-02 -1.511300e+01   \n",
       "50%        4.830000e-03  5.000000e+00  1.260000e-01 -9.880000e+00   \n",
       "75%        6.720000e-01  8.000000e+00  2.480000e-01 -6.760000e+00   \n",
       "max        1.000000e+00  1.100000e+01  1.000000e+00  7.234000e+00   \n",
       "\n",
       "               mode   speechiness         tempo       valence  \n",
       "count  1.373934e+06  1.373934e+06  1.373934e+06  1.373934e+06  \n",
       "mean   6.760470e-01  8.557872e-02  1.175495e+02  4.408613e-01  \n",
       "std    4.679825e-01  1.207497e-01  3.091196e+01  2.716692e-01  \n",
       "min    0.000000e+00  0.000000e+00  0.000000e+00  0.000000e+00  \n",
       "25%    0.000000e+00  3.510000e-02  9.401700e+01  2.040000e-01  \n",
       "50%    1.000000e+00  4.460000e-02  1.163490e+02  4.220000e-01  \n",
       "75%    1.000000e+00  7.260000e-02  1.369300e+02  6.600000e-01  \n",
       "max    1.000000e+00  9.690000e-01  2.489340e+02  1.000000e+00  "
      ]
     },
     "execution_count": 26,
     "metadata": {},
     "output_type": "execute_result"
    }
   ],
   "source": [
    "song_db.describe()"
   ]
  },
  {
   "cell_type": "markdown",
   "metadata": {},
   "source": [
    "Cleaning up Indexes - Only read from 1950 to 2019"
   ]
  },
  {
   "cell_type": "code",
   "execution_count": 27,
   "metadata": {},
   "outputs": [
    {
     "data": {
      "text/plain": [
       "array([   0, 1900, 1908, 1909, 1917, 1920, 1921, 1922, 1923, 1924, 1925,\n",
       "       1926, 1927, 1928, 1929, 1930, 1931, 1932, 1933, 1934, 1935, 1936,\n",
       "       1937, 1938, 1939, 1940, 1941, 1942, 1943, 1944, 1945, 1946, 1947,\n",
       "       1948, 1949, 1950, 1951, 1952, 1953, 1954, 1955, 1956, 1957, 1958,\n",
       "       1959, 1960, 1961, 1962, 1963, 1964, 1965, 1966, 1967, 1968, 1969,\n",
       "       1970, 1971, 1972, 1973, 1974, 1975, 1976, 1977, 1978, 1979, 1980,\n",
       "       1981, 1982, 1983, 1984, 1985, 1986, 1987, 1988, 1989, 1990, 1991,\n",
       "       1992, 1993, 1994, 1995, 1996, 1997, 1998, 1999, 2000, 2001, 2002,\n",
       "       2003, 2004, 2005, 2006, 2007, 2008, 2009, 2010, 2011, 2012, 2013,\n",
       "       2014, 2015, 2016, 2017, 2018, 2019, 2020], dtype=int64)"
      ]
     },
     "execution_count": 27,
     "metadata": {},
     "output_type": "execute_result"
    }
   ],
   "source": [
    "np.sort(song_db.index.unique())"
   ]
  },
  {
   "cell_type": "code",
   "execution_count": 28,
   "metadata": {},
   "outputs": [
    {
     "data": {
      "text/plain": [
       "array([1950, 1951, 1952, 1953, 1954, 1955, 1956, 1957, 1958, 1959, 1960,\n",
       "       1961, 1962, 1963, 1964, 1965, 1966, 1967, 1968, 1969, 1970, 1971,\n",
       "       1972, 1973, 1974, 1975, 1976, 1977, 1978, 1979, 1980, 1981, 1982,\n",
       "       1983, 1984, 1985, 1986, 1987, 1988, 1989, 1990, 1991, 1992, 1993,\n",
       "       1994, 1995, 1996, 1997, 1998, 1999, 2000, 2001, 2002, 2003, 2004,\n",
       "       2005, 2006, 2007, 2008, 2009, 2010, 2011, 2012, 2013, 2014, 2015,\n",
       "       2016, 2017, 2018, 2019], dtype=int64)"
      ]
     },
     "execution_count": 28,
     "metadata": {},
     "output_type": "execute_result"
    }
   ],
   "source": [
    "l_drop = np.arange(1920,1950)\n",
    "l_drop = np.concatenate((l_drop,[0,1900, 1908, 1909, 1917, 2020]))\n",
    "song_db.drop(labels=l_drop, axis=0, inplace = True)\n",
    "\n",
    "np.sort(song_db.index.unique())"
   ]
  },
  {
   "cell_type": "markdown",
   "metadata": {},
   "source": [
    "Quantify Indices"
   ]
  },
  {
   "cell_type": "code",
   "execution_count": 29,
   "metadata": {},
   "outputs": [],
   "source": [
    "enc = LabelEncoder()"
   ]
  },
  {
   "cell_type": "code",
   "execution_count": 30,
   "metadata": {},
   "outputs": [
    {
     "name": "stdout",
     "output_type": "stream",
     "text": [
      "[ 0  1  2  3  4  5  6  7  8  9 10 11 12 13 14 15 16 17 18 19 20 21 22 23\n",
      " 24 25 26 27 28 29 30 31 32 33 34 35 36 37 38 39 40 41 42 43 44 45 46 47\n",
      " 48 49 50 51 52 53 54 55 56 57 58 59 60 61 62 63 64 65 66 67 68 69]\n"
     ]
    }
   ],
   "source": [
    "labels = song_db.index\n",
    "enc.fit(song_db.index.unique())\n",
    "\n",
    "y = enc.transform(np.array(labels))\n",
    "print(np.unique(y))"
   ]
  },
  {
   "cell_type": "code",
   "execution_count": 31,
   "metadata": {},
   "outputs": [
    {
     "name": "stdout",
     "output_type": "stream",
     "text": [
      "[0 1 2 3 4 5 6]\n"
     ]
    }
   ],
   "source": [
    "y_decade = y//10\n",
    "Y_decade = np.unique(y_decade)\n",
    "print(np.unique(Y_decade))"
   ]
  },
  {
   "cell_type": "code",
   "execution_count": 32,
   "metadata": {},
   "outputs": [],
   "source": [
    "enc.fit(song_db['explicit'].unique())\n",
    "song_db['explicit'] = enc.transform(song_db['explicit'])"
   ]
  },
  {
   "cell_type": "code",
   "execution_count": 33,
   "metadata": {},
   "outputs": [],
   "source": [
    "song_db.set_index(y_decade, inplace=True)"
   ]
  },
  {
   "cell_type": "code",
   "execution_count": 34,
   "metadata": {},
   "outputs": [
    {
     "data": {
      "text/html": [
       "<div>\n",
       "<style scoped>\n",
       "    .dataframe tbody tr th:only-of-type {\n",
       "        vertical-align: middle;\n",
       "    }\n",
       "\n",
       "    .dataframe tbody tr th {\n",
       "        vertical-align: top;\n",
       "    }\n",
       "\n",
       "    .dataframe thead th {\n",
       "        text-align: right;\n",
       "    }\n",
       "</style>\n",
       "<table border=\"1\" class=\"dataframe\">\n",
       "  <thead>\n",
       "    <tr style=\"text-align: right;\">\n",
       "      <th></th>\n",
       "      <th>acousticness</th>\n",
       "      <th>danceability</th>\n",
       "      <th>duration_ms</th>\n",
       "      <th>energy</th>\n",
       "      <th>explicit</th>\n",
       "      <th>instrumentalness</th>\n",
       "      <th>key</th>\n",
       "      <th>liveness</th>\n",
       "      <th>loudness</th>\n",
       "      <th>mode</th>\n",
       "      <th>speechiness</th>\n",
       "      <th>tempo</th>\n",
       "      <th>valence</th>\n",
       "    </tr>\n",
       "  </thead>\n",
       "  <tbody>\n",
       "    <tr>\n",
       "      <th>0</th>\n",
       "      <td>0.782</td>\n",
       "      <td>0.633</td>\n",
       "      <td>106471</td>\n",
       "      <td>0.2610</td>\n",
       "      <td>1</td>\n",
       "      <td>0.0000</td>\n",
       "      <td>1</td>\n",
       "      <td>0.235</td>\n",
       "      <td>-16.389</td>\n",
       "      <td>1</td>\n",
       "      <td>0.7970</td>\n",
       "      <td>167.679</td>\n",
       "      <td>0.655</td>\n",
       "    </tr>\n",
       "    <tr>\n",
       "      <th>0</th>\n",
       "      <td>0.988</td>\n",
       "      <td>0.420</td>\n",
       "      <td>232933</td>\n",
       "      <td>0.0909</td>\n",
       "      <td>0</td>\n",
       "      <td>0.7860</td>\n",
       "      <td>10</td>\n",
       "      <td>0.104</td>\n",
       "      <td>-19.388</td>\n",
       "      <td>1</td>\n",
       "      <td>0.0409</td>\n",
       "      <td>123.089</td>\n",
       "      <td>0.227</td>\n",
       "    </tr>\n",
       "    <tr>\n",
       "      <th>0</th>\n",
       "      <td>0.993</td>\n",
       "      <td>0.394</td>\n",
       "      <td>177981</td>\n",
       "      <td>0.2580</td>\n",
       "      <td>0</td>\n",
       "      <td>0.0770</td>\n",
       "      <td>5</td>\n",
       "      <td>0.153</td>\n",
       "      <td>-9.779</td>\n",
       "      <td>0</td>\n",
       "      <td>0.1100</td>\n",
       "      <td>74.761</td>\n",
       "      <td>0.340</td>\n",
       "    </tr>\n",
       "    <tr>\n",
       "      <th>0</th>\n",
       "      <td>0.730</td>\n",
       "      <td>0.618</td>\n",
       "      <td>125300</td>\n",
       "      <td>0.2720</td>\n",
       "      <td>1</td>\n",
       "      <td>0.0000</td>\n",
       "      <td>6</td>\n",
       "      <td>0.146</td>\n",
       "      <td>-18.515</td>\n",
       "      <td>1</td>\n",
       "      <td>0.7310</td>\n",
       "      <td>67.141</td>\n",
       "      <td>0.449</td>\n",
       "    </tr>\n",
       "    <tr>\n",
       "      <th>0</th>\n",
       "      <td>0.993</td>\n",
       "      <td>0.475</td>\n",
       "      <td>188600</td>\n",
       "      <td>0.4070</td>\n",
       "      <td>0</td>\n",
       "      <td>0.0134</td>\n",
       "      <td>9</td>\n",
       "      <td>0.116</td>\n",
       "      <td>-13.011</td>\n",
       "      <td>1</td>\n",
       "      <td>0.0492</td>\n",
       "      <td>74.130</td>\n",
       "      <td>0.594</td>\n",
       "    </tr>\n",
       "  </tbody>\n",
       "</table>\n",
       "</div>"
      ],
      "text/plain": [
       "   acousticness  danceability  duration_ms  energy  explicit  \\\n",
       "0         0.782         0.633       106471  0.2610         1   \n",
       "0         0.988         0.420       232933  0.0909         0   \n",
       "0         0.993         0.394       177981  0.2580         0   \n",
       "0         0.730         0.618       125300  0.2720         1   \n",
       "0         0.993         0.475       188600  0.4070         0   \n",
       "\n",
       "   instrumentalness  key  liveness  loudness  mode  speechiness    tempo  \\\n",
       "0            0.0000    1     0.235   -16.389     1       0.7970  167.679   \n",
       "0            0.7860   10     0.104   -19.388     1       0.0409  123.089   \n",
       "0            0.0770    5     0.153    -9.779     0       0.1100   74.761   \n",
       "0            0.0000    6     0.146   -18.515     1       0.7310   67.141   \n",
       "0            0.0134    9     0.116   -13.011     1       0.0492   74.130   \n",
       "\n",
       "   valence  \n",
       "0    0.655  \n",
       "0    0.227  \n",
       "0    0.340  \n",
       "0    0.449  \n",
       "0    0.594  "
      ]
     },
     "execution_count": 34,
     "metadata": {},
     "output_type": "execute_result"
    }
   ],
   "source": [
    "song_db.head()"
   ]
  },
  {
   "cell_type": "code",
   "execution_count": 35,
   "metadata": {},
   "outputs": [
    {
     "name": "stdout",
     "output_type": "stream",
     "text": [
      "[0.01816086 0.02262071 0.0292213  0.03818975 0.13599542 0.34873576\n",
      " 0.4070762 ]\n"
     ]
    }
   ],
   "source": [
    "priors = song_db.index.value_counts().sort_index().to_numpy() /len(song_db.index)\n",
    "print(priors)"
   ]
  },
  {
   "cell_type": "code",
   "execution_count": 36,
   "metadata": {},
   "outputs": [
    {
     "name": "stdout",
     "output_type": "stream",
     "text": [
      "[[0.01816086 0.         0.         0.         0.         0.\n",
      "  0.        ]\n",
      " [0.         0.02262071 0.         0.         0.         0.\n",
      "  0.        ]\n",
      " [0.         0.         0.0292213  0.         0.         0.\n",
      "  0.        ]\n",
      " [0.         0.         0.         0.03818975 0.         0.\n",
      "  0.        ]\n",
      " [0.         0.         0.         0.         0.13599542 0.\n",
      "  0.        ]\n",
      " [0.         0.         0.         0.         0.         0.34873576\n",
      "  0.        ]\n",
      " [0.         0.         0.         0.         0.         0.\n",
      "  0.4070762 ]]\n"
     ]
    }
   ],
   "source": [
    "class_priors = np.diag(priors)\n",
    "print(class_priors)"
   ]
  },
  {
   "cell_type": "code",
   "execution_count": 37,
   "metadata": {},
   "outputs": [
    {
     "name": "stdout",
     "output_type": "stream",
     "text": [
      "[0 1 2 3 4 5 6]\n",
      "7\n"
     ]
    }
   ],
   "source": [
    "num_classes = len(Y_decade)\n",
    "\n",
    "print(Y_decade)\n",
    "print(num_classes)"
   ]
  },
  {
   "cell_type": "code",
   "execution_count": 38,
   "metadata": {},
   "outputs": [
    {
     "name": "stdout",
     "output_type": "stream",
     "text": [
      "Labels: [0 1 2 3 4 5 6]\n",
      "Total Datapoints: 169909\n",
      "Counts Per Class:\n",
      "0     23109\n",
      "1     28784\n",
      "2     37183\n",
      "3     48595\n",
      "4    173049\n",
      "5    443753\n",
      "6    517989\n",
      "dtype: int64\n"
     ]
    }
   ],
   "source": [
    "N = len(df)\n",
    "print('Labels:',Y_decade)\n",
    "print('Total Datapoints:',N)\n",
    "print(\"Counts Per Class:\")\n",
    "print(song_db.index.value_counts().sort_index())"
   ]
  },
  {
   "cell_type": "code",
   "execution_count": 39,
   "metadata": {},
   "outputs": [
    {
     "data": {
      "text/html": [
       "<div>\n",
       "<style scoped>\n",
       "    .dataframe tbody tr th:only-of-type {\n",
       "        vertical-align: middle;\n",
       "    }\n",
       "\n",
       "    .dataframe tbody tr th {\n",
       "        vertical-align: top;\n",
       "    }\n",
       "\n",
       "    .dataframe thead th {\n",
       "        text-align: right;\n",
       "    }\n",
       "</style>\n",
       "<table border=\"1\" class=\"dataframe\">\n",
       "  <thead>\n",
       "    <tr style=\"text-align: right;\">\n",
       "      <th></th>\n",
       "      <th>acousticness</th>\n",
       "      <th>danceability</th>\n",
       "      <th>duration_ms</th>\n",
       "      <th>energy</th>\n",
       "      <th>explicit</th>\n",
       "      <th>instrumentalness</th>\n",
       "      <th>key</th>\n",
       "      <th>liveness</th>\n",
       "      <th>loudness</th>\n",
       "      <th>mode</th>\n",
       "      <th>speechiness</th>\n",
       "      <th>tempo</th>\n",
       "      <th>valence</th>\n",
       "    </tr>\n",
       "  </thead>\n",
       "  <tbody>\n",
       "    <tr>\n",
       "      <th>count</th>\n",
       "      <td>28784.000000</td>\n",
       "      <td>28784.000000</td>\n",
       "      <td>2.878400e+04</td>\n",
       "      <td>28784.000000</td>\n",
       "      <td>28784.000000</td>\n",
       "      <td>28784.000000</td>\n",
       "      <td>28784.000000</td>\n",
       "      <td>28784.000000</td>\n",
       "      <td>28784.000000</td>\n",
       "      <td>28784.000000</td>\n",
       "      <td>28784.000000</td>\n",
       "      <td>28784.000000</td>\n",
       "      <td>28784.000000</td>\n",
       "    </tr>\n",
       "    <tr>\n",
       "      <th>mean</th>\n",
       "      <td>0.645636</td>\n",
       "      <td>0.477305</td>\n",
       "      <td>2.170223e+05</td>\n",
       "      <td>0.395853</td>\n",
       "      <td>0.000903</td>\n",
       "      <td>0.185949</td>\n",
       "      <td>5.082407</td>\n",
       "      <td>0.216513</td>\n",
       "      <td>-13.376286</td>\n",
       "      <td>0.754760</td>\n",
       "      <td>0.061205</td>\n",
       "      <td>114.398324</td>\n",
       "      <td>0.526187</td>\n",
       "    </tr>\n",
       "    <tr>\n",
       "      <th>std</th>\n",
       "      <td>0.293182</td>\n",
       "      <td>0.162811</td>\n",
       "      <td>1.409495e+05</td>\n",
       "      <td>0.228457</td>\n",
       "      <td>0.030042</td>\n",
       "      <td>0.329124</td>\n",
       "      <td>3.467462</td>\n",
       "      <td>0.187622</td>\n",
       "      <td>5.391233</td>\n",
       "      <td>0.430237</td>\n",
       "      <td>0.091449</td>\n",
       "      <td>30.319280</td>\n",
       "      <td>0.271199</td>\n",
       "    </tr>\n",
       "    <tr>\n",
       "      <th>min</th>\n",
       "      <td>0.000000</td>\n",
       "      <td>0.000000</td>\n",
       "      <td>3.808000e+03</td>\n",
       "      <td>0.000000</td>\n",
       "      <td>0.000000</td>\n",
       "      <td>0.000000</td>\n",
       "      <td>0.000000</td>\n",
       "      <td>0.000000</td>\n",
       "      <td>-60.000000</td>\n",
       "      <td>0.000000</td>\n",
       "      <td>0.000000</td>\n",
       "      <td>0.000000</td>\n",
       "      <td>0.000000</td>\n",
       "    </tr>\n",
       "    <tr>\n",
       "      <th>25%</th>\n",
       "      <td>0.445000</td>\n",
       "      <td>0.367000</td>\n",
       "      <td>1.472800e+05</td>\n",
       "      <td>0.212000</td>\n",
       "      <td>0.000000</td>\n",
       "      <td>0.000000</td>\n",
       "      <td>2.000000</td>\n",
       "      <td>0.101000</td>\n",
       "      <td>-16.155000</td>\n",
       "      <td>1.000000</td>\n",
       "      <td>0.032975</td>\n",
       "      <td>92.050500</td>\n",
       "      <td>0.304000</td>\n",
       "    </tr>\n",
       "    <tr>\n",
       "      <th>50%</th>\n",
       "      <td>0.733000</td>\n",
       "      <td>0.490000</td>\n",
       "      <td>1.762600e+05</td>\n",
       "      <td>0.375000</td>\n",
       "      <td>0.000000</td>\n",
       "      <td>0.000231</td>\n",
       "      <td>5.000000</td>\n",
       "      <td>0.140000</td>\n",
       "      <td>-12.420000</td>\n",
       "      <td>1.000000</td>\n",
       "      <td>0.039200</td>\n",
       "      <td>111.921500</td>\n",
       "      <td>0.540000</td>\n",
       "    </tr>\n",
       "    <tr>\n",
       "      <th>75%</th>\n",
       "      <td>0.892000</td>\n",
       "      <td>0.594000</td>\n",
       "      <td>2.348935e+05</td>\n",
       "      <td>0.557000</td>\n",
       "      <td>0.000000</td>\n",
       "      <td>0.177000</td>\n",
       "      <td>8.000000</td>\n",
       "      <td>0.268000</td>\n",
       "      <td>-9.599750</td>\n",
       "      <td>1.000000</td>\n",
       "      <td>0.052200</td>\n",
       "      <td>131.998000</td>\n",
       "      <td>0.753000</td>\n",
       "    </tr>\n",
       "    <tr>\n",
       "      <th>max</th>\n",
       "      <td>0.996000</td>\n",
       "      <td>0.944000</td>\n",
       "      <td>3.557955e+06</td>\n",
       "      <td>1.000000</td>\n",
       "      <td>1.000000</td>\n",
       "      <td>1.000000</td>\n",
       "      <td>11.000000</td>\n",
       "      <td>0.995000</td>\n",
       "      <td>1.812000</td>\n",
       "      <td>1.000000</td>\n",
       "      <td>0.966000</td>\n",
       "      <td>238.895000</td>\n",
       "      <td>0.991000</td>\n",
       "    </tr>\n",
       "  </tbody>\n",
       "</table>\n",
       "</div>"
      ],
      "text/plain": [
       "       acousticness  danceability   duration_ms        energy      explicit  \\\n",
       "count  28784.000000  28784.000000  2.878400e+04  28784.000000  28784.000000   \n",
       "mean       0.645636      0.477305  2.170223e+05      0.395853      0.000903   \n",
       "std        0.293182      0.162811  1.409495e+05      0.228457      0.030042   \n",
       "min        0.000000      0.000000  3.808000e+03      0.000000      0.000000   \n",
       "25%        0.445000      0.367000  1.472800e+05      0.212000      0.000000   \n",
       "50%        0.733000      0.490000  1.762600e+05      0.375000      0.000000   \n",
       "75%        0.892000      0.594000  2.348935e+05      0.557000      0.000000   \n",
       "max        0.996000      0.944000  3.557955e+06      1.000000      1.000000   \n",
       "\n",
       "       instrumentalness           key      liveness      loudness  \\\n",
       "count      28784.000000  28784.000000  28784.000000  28784.000000   \n",
       "mean           0.185949      5.082407      0.216513    -13.376286   \n",
       "std            0.329124      3.467462      0.187622      5.391233   \n",
       "min            0.000000      0.000000      0.000000    -60.000000   \n",
       "25%            0.000000      2.000000      0.101000    -16.155000   \n",
       "50%            0.000231      5.000000      0.140000    -12.420000   \n",
       "75%            0.177000      8.000000      0.268000     -9.599750   \n",
       "max            1.000000     11.000000      0.995000      1.812000   \n",
       "\n",
       "               mode   speechiness         tempo       valence  \n",
       "count  28784.000000  28784.000000  28784.000000  28784.000000  \n",
       "mean       0.754760      0.061205    114.398324      0.526187  \n",
       "std        0.430237      0.091449     30.319280      0.271199  \n",
       "min        0.000000      0.000000      0.000000      0.000000  \n",
       "25%        1.000000      0.032975     92.050500      0.304000  \n",
       "50%        1.000000      0.039200    111.921500      0.540000  \n",
       "75%        1.000000      0.052200    131.998000      0.753000  \n",
       "max        1.000000      0.966000    238.895000      0.991000  "
      ]
     },
     "execution_count": 39,
     "metadata": {},
     "output_type": "execute_result"
    }
   ],
   "source": [
    "a=song_db[song_db.index==1]\n",
    "a.describe()"
   ]
  },
  {
   "cell_type": "code",
   "execution_count": 40,
   "metadata": {},
   "outputs": [],
   "source": [
    "f,ax = plt.subplots(figsize=(12, 12))\n",
    "mask = np.zeros_like(song_db.corr())\n",
    "mask[np.triu_indices_from(mask)] = True\n",
    "sns.heatmap(song_db.corr(), annot=True, linewidths=0.4,linecolor=\"white\", fmt= '.1f',ax=ax,cmap=\"Blues\",mask=mask)\n",
    "plt.show() "
   ]
  },
  {
   "cell_type": "markdown",
   "metadata": {},
   "source": [
    "Variable Analysis"
   ]
  },
  {
   "cell_type": "code",
   "execution_count": null,
   "metadata": {},
   "outputs": [],
   "source": [
    "# https://www.kaggle.com/code/pelinsoylu/spotify-popularity-prediction-ml-practice/notebook\n",
    "def bar_plot(variable):\n",
    "    \n",
    "    var=song_db[variable]\n",
    "    var_value= var.value_counts()\n",
    "    print(var_value)\n",
    "    print(var_value.shape)\n",
    "    print(var_value.index.shape)\n",
    "    #visualize\n",
    "    plt.figure(figsize=(9,3))\n",
    "    plt.bar(var_value.index,var_value,color=\"orange\")\n",
    "    plt.xticks(var_value.index,var_value.index.values)\n",
    "    plt.ylabel(\"Frequency\")\n",
    "    plt.title(variable)\n",
    "    plt.show()\n",
    "    print(\"{}:\\n{}\".format(variable,var_value))"
   ]
  },
  {
   "cell_type": "code",
   "execution_count": null,
   "metadata": {},
   "outputs": [
    {
     "name": "stdout",
     "output_type": "stream",
     "text": [
      "7     165277\n",
      "0     159704\n",
      "2     153340\n",
      "9     141859\n",
      "5     107454\n",
      "4     103460\n",
      "1      97900\n",
      "11     84684\n",
      "10     81526\n",
      "8      68825\n",
      "6      65707\n",
      "3      42726\n",
      "Name: key, dtype: int64\n",
      "(12,)\n",
      "(12,)\n"
     ]
    },
    {
     "data": {
      "image/png": "[encoded data removed]",
      "text/plain": [
       "<Figure size 648x216 with 1 Axes>"
      ]
     },
     "metadata": {
      "needs_background": "light"
     },
     "output_type": "display_data"
    },
    {
     "name": "stdout",
     "output_type": "stream",
     "text": [
      "key:\n",
      "7     165277\n",
      "0     159704\n",
      "2     153340\n",
      "9     141859\n",
      "5     107454\n",
      "4     103460\n",
      "1      97900\n",
      "11     84684\n",
      "10     81526\n",
      "8      68825\n",
      "6      65707\n",
      "3      42726\n",
      "Name: key, dtype: int64\n",
      "1    865129\n",
      "0    407333\n",
      "Name: mode, dtype: int64\n",
      "(2,)\n",
      "(2,)\n"
     ]
    },
    {
     "data": {
      "image/png": "[encoded data removed]",
      "text/plain": [
       "<Figure size 648x216 with 1 Axes>"
      ]
     },
     "metadata": {
      "needs_background": "light"
     },
     "output_type": "display_data"
    },
    {
     "name": "stdout",
     "output_type": "stream",
     "text": [
      "mode:\n",
      "1    865129\n",
      "0    407333\n",
      "Name: mode, dtype: int64\n",
      "0    1199652\n",
      "1      72810\n",
      "Name: explicit, dtype: int64\n",
      "(2,)\n",
      "(2,)\n"
     ]
    },
    {
     "data": {
      "image/png": "[encoded data removed]",
      "text/plain": [
       "<Figure size 648x216 with 1 Axes>"
      ]
     },
     "metadata": {
      "needs_background": "light"
     },
     "output_type": "display_data"
    },
    {
     "name": "stdout",
     "output_type": "stream",
     "text": [
      "explicit:\n",
      "0    1199652\n",
      "1      72810\n",
      "Name: explicit, dtype: int64\n"
     ]
    }
   ],
   "source": [
    "category1 = [\"key\",\"mode\",\"explicit\"]\n",
    "for c in category1:\n",
    "    bar_plot(c)"
   ]
  },
  {
   "cell_type": "code",
   "execution_count": null,
   "metadata": {},
   "outputs": [
    {
     "data": {
      "image/png": "[encoded data removed]",
      "text/plain": [
       "<Figure size 648x216 with 1 Axes>"
      ]
     },
     "metadata": {
      "needs_background": "light"
     },
     "output_type": "display_data"
    },
    {
     "name": "stdout",
     "output_type": "stream",
     "text": [
      "Decade:\n",
      "6    517989\n",
      "5    443753\n",
      "4    173049\n",
      "3     48595\n",
      "2     37183\n",
      "1     28784\n",
      "0     23109\n",
      "dtype: int64\n"
     ]
    }
   ],
   "source": [
    "var_value= song_db.index.value_counts()\n",
    "var_labels= song_db.index.unique()\n",
    "\n",
    "#visualize\n",
    "plt.figure(figsize=(9,3))\n",
    "plt.bar(var_value.index,var_value,color=\"orange\")\n",
    "plt.xticks(var_value.index,var_value.index.values)\n",
    "plt.ylabel(\"Frequency\")\n",
    "plt.title(\"Decade\")\n",
    "plt.show()\n",
    "print(\"{}:\\n{}\".format(\"Decade\",var_value))"
   ]
  },
  {
   "cell_type": "markdown",
   "metadata": {},
   "source": [
    "Basic Data Analysis"
   ]
  },
  {
   "cell_type": "markdown",
   "metadata": {},
   "source": [
    "Models"
   ]
  },
  {
   "cell_type": "code",
   "execution_count": null,
   "metadata": {},
   "outputs": [],
   "source": [
    "covariance = song_db.std()\n",
    "mean = song_db.mean()\n",
    "X = (song_db-song_db.mean())/song_db.std()"
   ]
  },
  {
   "cell_type": "markdown",
   "metadata": {},
   "source": [
    "Random Forest Classification"
   ]
  },
  {
   "cell_type": "code",
   "execution_count": null,
   "metadata": {},
   "outputs": [
    {
     "name": "stdout",
     "output_type": "stream",
     "text": [
      "done\n",
      "loudness            0.106194\n",
      "duration_ms         0.096827\n",
      "valence             0.095895\n",
      "energy              0.093181\n",
      "acousticness        0.092609\n",
      "tempo               0.092401\n",
      "danceability        0.091940\n",
      "speechiness         0.090452\n",
      "liveness            0.089789\n",
      "instrumentalness    0.080975\n",
      "key                 0.054286\n",
      "mode                0.010056\n",
      "explicit            0.005394\n",
      "dtype: float64\n",
      "\n",
      "ACCURACY OF THE MODEL:  0.47414070870411457\n",
      "\n",
      "Time to run (sec):  1441.4601874351501\n",
      "Time to run (min):  24.024336457252502\n"
     ]
    }
   ],
   "source": [
    "from sklearn.ensemble import RandomForestClassifier\n",
    "from sklearn.model_selection import train_test_split\n",
    "\n",
    "X_train, X_test, y_train, y_test = train_test_split(X.values, y_decade, test_size = 0.30)\n",
    "\n",
    "\n",
    "start = time.time()\n",
    "\n",
    "\n",
    "clf = RandomForestClassifier(n_estimators = 100)\n",
    "print('done')\n",
    "\n",
    "clf.fit(X_train, y_train)\n",
    "\n",
    "feature_imp = pd.Series(clf.feature_importances_, index = song_db.columns).sort_values(ascending = False)\n",
    "\n",
    "print(feature_imp)\n",
    "\n",
    "\n",
    "y_pred = clf.predict(X_test)\n",
    " \n",
    "# metrics are used to find accuracy or error\n",
    "from sklearn import metrics \n",
    "print()\n",
    " \n",
    "# using metrics module for accuracy calculation\n",
    "print(\"ACCURACY OF THE MODEL: \", metrics.accuracy_score(y_test, y_pred))\n",
    "\n",
    "\n",
    "\n",
    "stop = time.time()\n",
    "print()\n",
    "print('Time to run (sec): ', stop - start) \n",
    "print('Time to run (min): ', (stop - start)/60) "
   ]
  },
  {
   "cell_type": "code",
   "execution_count": null,
   "metadata": {},
   "outputs": [],
   "source": []
  },
  {
   "cell_type": "code",
   "execution_count": null,
   "metadata": {},
   "outputs": [
    {
     "ename": "NameError",
     "evalue": "name 'clf' is not defined",
     "output_type": "error",
     "traceback": [
      "\u001b[1;31m---------------------------------------------------------------------------\u001b[0m",
      "\u001b[1;31mNameError\u001b[0m                                 Traceback (most recent call last)",
      "\u001b[1;32mc:\\Users\\almen.DESKTOP-AIB4N1J\\EECE5644\\FinalProject\\CompiledNotebook.ipynb Cell 48'\u001b[0m in \u001b[0;36m<cell line: 2>\u001b[1;34m()\u001b[0m\n\u001b[0;32m      <a href='vscode-notebook-cell:/c%3A/Users/almen.DESKTOP-AIB4N1J/EECE5644/FinalProject/CompiledNotebook.ipynb#ch0000046?line=0'>1</a>\u001b[0m \u001b[39mfrom\u001b[39;00m \u001b[39msklearn\u001b[39;00m\u001b[39m.\u001b[39;00m\u001b[39mfeature_selection\u001b[39;00m \u001b[39mimport\u001b[39;00m RFE\n\u001b[1;32m----> <a href='vscode-notebook-cell:/c%3A/Users/almen.DESKTOP-AIB4N1J/EECE5644/FinalProject/CompiledNotebook.ipynb#ch0000046?line=1'>2</a>\u001b[0m RFE(clf)\n",
      "\u001b[1;31mNameError\u001b[0m: name 'clf' is not defined"
     ]
    }
   ],
   "source": [
    "from sklearn.feature_selection import RFE\n",
    "prunded = RFE(clf)\n"
   ]
  },
  {
   "cell_type": "code",
   "execution_count": null,
   "metadata": {},
   "outputs": [
    {
     "ename": "NameError",
     "evalue": "name 'clf' is not defined",
     "output_type": "error",
     "traceback": [
      "\u001b[1;31m---------------------------------------------------------------------------\u001b[0m",
      "\u001b[1;31mNameError\u001b[0m                                 Traceback (most recent call last)",
      "\u001b[1;32mc:\\Users\\almen.DESKTOP-AIB4N1J\\EECE5644\\FinalProject\\CompiledNotebook.ipynb Cell 48'\u001b[0m in \u001b[0;36m<cell line: 1>\u001b[1;34m()\u001b[0m\n\u001b[1;32m----> <a href='vscode-notebook-cell:/c%3A/Users/almen.DESKTOP-AIB4N1J/EECE5644/FinalProject/CompiledNotebook.ipynb#ch0000047?line=0'>1</a>\u001b[0m estimator \u001b[39m=\u001b[39m clf\u001b[39m.\u001b[39mestimators_[\u001b[39m3\u001b[39m]\n",
      "\u001b[1;31mNameError\u001b[0m: name 'clf' is not defined"
     ]
    }
   ],
   "source": [
    "estimator = clf.estimators_[3]"
   ]
  },
  {
   "cell_type": "code",
   "execution_count": null,
   "metadata": {},
   "outputs": [],
   "source": [
    "from sklearn.tree import export_graphviz\n",
    "# Export as dot file\n",
    "# export_graphviz(estimator, out_file='tree.dot', \n",
    "#                feature_names = song_db.columns,\n",
    "#                class_names = ['1950', '1960', '1970', '1980', '1990', '2000', '2010'],\n",
    "#                rounded = True, proportion = False, \n",
    "#                precision = 2, filled = True)"
   ]
  },
  {
   "cell_type": "code",
   "execution_count": null,
   "metadata": {},
   "outputs": [
    {
     "data": {
      "text/plain": [
       "3221225725"
      ]
     },
     "execution_count": 3,
     "metadata": {},
     "output_type": "execute_result"
    }
   ],
   "source": [
    "# Convert to png using system command (requires Graphviz)\n",
    "from subprocess import call\n",
    "call(['dot', '-Tpng', 'tree.dot', '-o', 'tree.png', '-Gdpi=600'])\n",
    "\n"
   ]
  },
  {
   "cell_type": "code",
   "execution_count": null,
   "metadata": {},
   "outputs": [
    {
     "name": "stdout",
     "output_type": "stream",
     "text": [
      "\"dot\" with args ['-Tpng', 'C:\\\\Users\\\\ALMEN~1.DES\\\\AppData\\\\Local\\\\Temp\\\\tmpoxoyb2ir'] returned code: 3221226505\n",
      "\n",
      "stdout, stderr:\n",
      " b''\n",
      "b'\\r\\n***MEMORY-ERROR***: dot.exe[31172]: GSlice: failed to allocate 4080 bytes (alignment: 4096): Not enough space\\r\\n\\r\\n'\n",
      "\n"
     ]
    },
    {
     "ename": "AssertionError",
     "evalue": "\"dot\" with args ['-Tpng', 'C:\\\\Users\\\\ALMEN~1.DES\\\\AppData\\\\Local\\\\Temp\\\\tmpoxoyb2ir'] returned code: 3221226505",
     "output_type": "error",
     "traceback": [
      "\u001b[1;31m---------------------------------------------------------------------------\u001b[0m",
      "\u001b[1;31mAssertionError\u001b[0m                            Traceback (most recent call last)",
      "\u001b[1;32mc:\\Users\\almen.DESKTOP-AIB4N1J\\EECE5644\\FinalProject\\CompiledNotebook.ipynb Cell 51'\u001b[0m in \u001b[0;36m<cell line: 4>\u001b[1;34m()\u001b[0m\n\u001b[0;32m      <a href='vscode-notebook-cell:/c%3A/Users/almen.DESKTOP-AIB4N1J/EECE5644/FinalProject/CompiledNotebook.ipynb#ch0000050?line=0'>1</a>\u001b[0m \u001b[39mimport\u001b[39;00m \u001b[39mpydot\u001b[39;00m\n\u001b[0;32m      <a href='vscode-notebook-cell:/c%3A/Users/almen.DESKTOP-AIB4N1J/EECE5644/FinalProject/CompiledNotebook.ipynb#ch0000050?line=2'>3</a>\u001b[0m (graph,) \u001b[39m=\u001b[39m pydot\u001b[39m.\u001b[39mgraph_from_dot_file(\u001b[39m'\u001b[39m\u001b[39mtree.dot\u001b[39m\u001b[39m'\u001b[39m)\n\u001b[1;32m----> <a href='vscode-notebook-cell:/c%3A/Users/almen.DESKTOP-AIB4N1J/EECE5644/FinalProject/CompiledNotebook.ipynb#ch0000050?line=3'>4</a>\u001b[0m graph\u001b[39m.\u001b[39;49mwrite_png(\u001b[39m'\u001b[39;49m\u001b[39mtree.png\u001b[39;49m\u001b[39m'\u001b[39;49m)\n",
      "File \u001b[1;32mc:\\Users\\almen.DESKTOP-AIB4N1J\\AppData\\Local\\Programs\\Python\\Python310\\lib\\site-packages\\pydot.py:1743\u001b[0m, in \u001b[0;36mDot.__init__.<locals>.new_method\u001b[1;34m(path, f, prog, encoding)\u001b[0m\n\u001b[0;32m   1739\u001b[0m \u001b[39mdef\u001b[39;00m \u001b[39mnew_method\u001b[39m(\n\u001b[0;32m   1740\u001b[0m         path, f\u001b[39m=\u001b[39mfrmt, prog\u001b[39m=\u001b[39m\u001b[39mself\u001b[39m\u001b[39m.\u001b[39mprog,\n\u001b[0;32m   1741\u001b[0m         encoding\u001b[39m=\u001b[39m\u001b[39mNone\u001b[39;00m):\n\u001b[0;32m   1742\u001b[0m     \u001b[39m\"\"\"Refer to docstring of method `write.`\"\"\"\u001b[39;00m\n\u001b[1;32m-> 1743\u001b[0m     \u001b[39mself\u001b[39;49m\u001b[39m.\u001b[39;49mwrite(\n\u001b[0;32m   1744\u001b[0m         path, \u001b[39mformat\u001b[39;49m\u001b[39m=\u001b[39;49mf, prog\u001b[39m=\u001b[39;49mprog,\n\u001b[0;32m   1745\u001b[0m         encoding\u001b[39m=\u001b[39;49mencoding)\n",
      "File \u001b[1;32mc:\\Users\\almen.DESKTOP-AIB4N1J\\AppData\\Local\\Programs\\Python\\Python310\\lib\\site-packages\\pydot.py:1828\u001b[0m, in \u001b[0;36mDot.write\u001b[1;34m(self, path, prog, format, encoding)\u001b[0m\n\u001b[0;32m   1826\u001b[0m         f\u001b[39m.\u001b[39mwrite(s)\n\u001b[0;32m   1827\u001b[0m \u001b[39melse\u001b[39;00m:\n\u001b[1;32m-> 1828\u001b[0m     s \u001b[39m=\u001b[39m \u001b[39mself\u001b[39;49m\u001b[39m.\u001b[39;49mcreate(prog, \u001b[39mformat\u001b[39;49m, encoding\u001b[39m=\u001b[39;49mencoding)\n\u001b[0;32m   1829\u001b[0m     \u001b[39mwith\u001b[39;00m io\u001b[39m.\u001b[39mopen(path, mode\u001b[39m=\u001b[39m\u001b[39m'\u001b[39m\u001b[39mwb\u001b[39m\u001b[39m'\u001b[39m) \u001b[39mas\u001b[39;00m f:\n\u001b[0;32m   1830\u001b[0m         f\u001b[39m.\u001b[39mwrite(s)\n",
      "File \u001b[1;32mc:\\Users\\almen.DESKTOP-AIB4N1J\\AppData\\Local\\Programs\\Python\\Python310\\lib\\site-packages\\pydot.py:1956\u001b[0m, in \u001b[0;36mDot.create\u001b[1;34m(self, prog, format, encoding)\u001b[0m\n\u001b[0;32m   1944\u001b[0m     message \u001b[39m=\u001b[39m (\n\u001b[0;32m   1945\u001b[0m         \u001b[39m'\u001b[39m\u001b[39m\"\u001b[39m\u001b[39m{prog}\u001b[39;00m\u001b[39m\"\u001b[39m\u001b[39m with args \u001b[39m\u001b[39m{arguments}\u001b[39;00m\u001b[39m returned code: \u001b[39m\u001b[39m{code}\u001b[39;00m\u001b[39m\\n\u001b[39;00m\u001b[39m\\n\u001b[39;00m\u001b[39m'\u001b[39m\n\u001b[0;32m   1946\u001b[0m         \u001b[39m'\u001b[39m\u001b[39mstdout, stderr:\u001b[39m\u001b[39m\\n\u001b[39;00m\u001b[39m \u001b[39m\u001b[39m{out}\u001b[39;00m\u001b[39m\\n\u001b[39;00m\u001b[39m{err}\u001b[39;00m\u001b[39m\\n\u001b[39;00m\u001b[39m'\u001b[39m\n\u001b[1;32m   (...)\u001b[0m\n\u001b[0;32m   1952\u001b[0m         err\u001b[39m=\u001b[39mstderr_data,\n\u001b[0;32m   1953\u001b[0m     )\n\u001b[0;32m   1954\u001b[0m     \u001b[39mprint\u001b[39m(message)\n\u001b[1;32m-> 1956\u001b[0m \u001b[39massert\u001b[39;00m process\u001b[39m.\u001b[39mreturncode \u001b[39m==\u001b[39m \u001b[39m0\u001b[39m, (\n\u001b[0;32m   1957\u001b[0m         \u001b[39m'\u001b[39m\u001b[39m\"\u001b[39m\u001b[39m{prog}\u001b[39;00m\u001b[39m\"\u001b[39m\u001b[39m with args \u001b[39m\u001b[39m{arguments}\u001b[39;00m\u001b[39m returned code: \u001b[39m\u001b[39m{code}\u001b[39;00m\u001b[39m'\u001b[39m\u001b[39m.\u001b[39mformat(\n\u001b[0;32m   1958\u001b[0m             prog\u001b[39m=\u001b[39mprog,\n\u001b[0;32m   1959\u001b[0m             arguments\u001b[39m=\u001b[39marguments,\n\u001b[0;32m   1960\u001b[0m             code\u001b[39m=\u001b[39mprocess\u001b[39m.\u001b[39mreturncode,\n\u001b[0;32m   1961\u001b[0m         )\n\u001b[0;32m   1962\u001b[0m     )\n\u001b[0;32m   1964\u001b[0m \u001b[39mreturn\u001b[39;00m stdout_data\n",
      "\u001b[1;31mAssertionError\u001b[0m: \"dot\" with args ['-Tpng', 'C:\\\\Users\\\\ALMEN~1.DES\\\\AppData\\\\Local\\\\Temp\\\\tmpoxoyb2ir'] returned code: 3221226505"
     ]
    }
   ],
   "source": [
    "#import pydot\n",
    "\n",
    "#(graph,) = pydot.graph_from_dot_file('tree.dot')\n",
    "#graph.write_png('tree.png')"
   ]
  }
 ],
 "metadata": {
  "kernelspec": {
   "display_name": "Python 3.10.0 64-bit",
   "language": "python",
   "name": "python3"
  },
  "language_info": {
   "codemirror_mode": {
    "name": "ipython",
    "version": 3
   },
   "file_extension": ".py",
   "mimetype": "text/x-python",
   "name": "python",
   "nbconvert_exporter": "python",
   "pygments_lexer": "ipython3",
   "version": "3.10.0"
  },
  "orig_nbformat": 4,
  "vscode": {
   "interpreter": {
    "hash": "366a16882a9b8169325c3739cda6d81236cd925ddae338fbe93f1dcbd4762388"
   }
  }
 },
 "nbformat": 4,
 "nbformat_minor": 2
}
